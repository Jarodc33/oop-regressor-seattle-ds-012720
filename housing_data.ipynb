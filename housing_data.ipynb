{
 "cells": [
  {
   "cell_type": "code",
   "execution_count": 1,
   "metadata": {},
   "outputs": [],
   "source": [
    "import math\n",
    "import pandas as pd\n",
    "import matplotlib.pyplot as plt\n",
    "from sklearn.model_selection import train_test_split\n",
    "%matplotlib inline\n",
    "\n",
    "from make_data_table import *\n",
    "from wrangle_helpers import *\n",
    "from mean_regressor import *"
   ]
  },
  {
   "cell_type": "code",
   "execution_count": 3,
   "metadata": {},
   "outputs": [
    {
     "name": "stdout",
     "output_type": "stream",
     "text": [
      "New files downloaded: {'EXTR_RPSale.csv', 'EXTR_ResBldg.csv', 'EXTR_Parcel.csv'}\n",
      "PINs added to tables\n",
      "Tables merged and saved to: /Users/jarodc33/Mod_Projects/mod_3/oop-regressor-seattle-ds-012720/data/housing2019.csv\n",
      "All downloaded files have been deleted.\n",
      "Data is now accessible from the data folder.\n"
     ]
    }
   ],
   "source": [
    "#build_data_file()"
   ]
  },
  {
   "cell_type": "code",
   "execution_count": 2,
   "metadata": {},
   "outputs": [],
   "source": [
    "data = load_and_wrangle_data('data/housing2019.csv')[1]"
   ]
  },
  {
   "cell_type": "code",
   "execution_count": 3,
   "metadata": {},
   "outputs": [],
   "source": [
    "columns = ['SalePrice', 'BldgGrade', 'TidelandShoreland', 'SqFtOpenPorch', 'SqFtDeck', 'Area', 'ViewScore','YrRenovated']\n",
    "data = data[columns]"
   ]
  },
  {
   "cell_type": "code",
   "execution_count": 4,
   "metadata": {},
   "outputs": [],
   "source": [
    "X = data.drop(['SalePrice'], axis = 1)\n",
    "y = data['SalePrice']"
   ]
  },
  {
   "cell_type": "code",
   "execution_count": 25,
   "metadata": {},
   "outputs": [],
   "source": [
    "X_train, X_test, y_train, y_test = train_test_split(X, y, random_state=2019)"
   ]
  },
  {
   "cell_type": "code",
   "execution_count": 26,
   "metadata": {},
   "outputs": [],
   "source": [
    "model = MeanRegressor()"
   ]
  },
  {
   "cell_type": "code",
   "execution_count": 27,
   "metadata": {},
   "outputs": [],
   "source": [
    "model.fit(X_train, y_train)\n",
    "predictions = model.predict(X_test)"
   ]
  },
  {
   "cell_type": "code",
   "execution_count": 28,
   "metadata": {},
   "outputs": [
    {
     "data": {
      "text/plain": [
       "0.0"
      ]
     },
     "execution_count": 28,
     "metadata": {},
     "output_type": "execute_result"
    }
   ],
   "source": [
    "train_r_squared = model.score(X_train, y_train)\n",
    "train_r_squared"
   ]
  },
  {
   "cell_type": "code",
   "execution_count": 29,
   "metadata": {},
   "outputs": [
    {
     "data": {
      "text/plain": [
       "-0.00022155313128235932"
      ]
     },
     "execution_count": 29,
     "metadata": {},
     "output_type": "execute_result"
    }
   ],
   "source": [
    "test_r_squared = model.score(X_test, y_test)\n",
    "test_r_squared"
   ]
  },
  {
   "cell_type": "markdown",
   "metadata": {},
   "source": [
    "This is very low compared to our 0.435 from the best model. This makes sense because we are just taking the mean of 30000 points and setting that as the predicted value. It is close to 0. r^2 cant be negative but I believe we are seeing a negative because of a conglomeration of a lot of rounding errors."
   ]
  },
  {
   "cell_type": "code",
   "execution_count": 54,
   "metadata": {},
   "outputs": [
    {
     "data": {
      "image/png": "[encoded data removed]",
      "text/plain": [
       "<Figure size 432x288 with 1 Axes>"
      ]
     },
     "metadata": {
      "needs_background": "light"
     },
     "output_type": "display_data"
    }
   ],
   "source": [
    "y = y_test\n",
    "y_hat = predictions\n",
    "plt.hist(y-y_hat, bins = 50, alpha = 0.2, label = 'Residuals')\n",
    "plt.hist(y, bins = 50, alpha = 0.2, label = 'Test data')\n",
    "plt.legend();"
   ]
  },
  {
   "cell_type": "markdown",
   "metadata": {},
   "source": [
    "This is the distribution of residuals in blue. This is just a shift of the test data by the mean of the training data because the 'predicted' values are all the same (mean of t_train)."
   ]
  },
  {
   "cell_type": "code",
   "execution_count": null,
   "metadata": {},
   "outputs": [],
   "source": []
  }
 ],
 "metadata": {
  "kernelspec": {
   "display_name": "Python 3 (linreg-env)",
   "language": "python",
   "name": "linreg-env"
  },
  "language_info": {
   "codemirror_mode": {
    "name": "ipython",
    "version": 3
   },
   "file_extension": ".py",
   "mimetype": "text/x-python",
   "name": "python",
   "nbconvert_exporter": "python",
   "pygments_lexer": "ipython3",
   "version": "3.7.4"
  }
 },
 "nbformat": 4,
 "nbformat_minor": 4
}
